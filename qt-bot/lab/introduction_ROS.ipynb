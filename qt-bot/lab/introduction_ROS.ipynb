{
 "cells": [
  {
   "attachments": {},
   "cell_type": "markdown",
   "metadata": {
    "collapsed": false
   },
   "source": [
    "# Einführung ROS\n",
    "\n",
    "### Was ist ROS?\n",
    "Wenn Sie jemals die Gelegenheit hatten, Code für einen Roboter zu entwickeln oder in einem Roboterteam mitzuarbeiten, haben Sie bestimmt schon von ROS gehört. Das Robot Operating System (ROS) ist das meistgenutzte und flexibelste Framework für die Entwicklung von Robotersoftware. Es ist eine Sammlung von Tools, Bibliotheken und bewährten Verfahren, die die Erstellung komplexer und robuster Roboteranwendungen vereinfachen. Kurz gesagt, ROS verwendet eine verteilte Publish-and-Subscribe-Architektur, bei der verschiedene Softwarekomponenten über Nachrichten miteinander kommunizieren. Verteilte Architektur bedeutet, dass Ihr Programm, das auf einem Rechner (z. B. Ihrem PC oder einem Tablet) läuft, mit einem zweiten Programm, das auf einem anderen Rechner (z. B. dem Roboter) läuft, kommunizieren und Befehle erteilen kann.\n",
    "\n",
    "### Topics und Messages\n",
    "Vielleicht erinnern Sie sich noch an Online-Chaträume aus einigen Chatprogrammen der späten 90er Jahre. Leute, die sich für ein bestimmtes Thema interessierten, tauchten in einem entsprechenden Chatroom auf und tauschten Nachrichten miteinander aus. ROS-Themen und -Nachrichten funktionieren auf ähnliche Weise. Ein Softwareprogramm kann sein Interesse an einem bestimmten Topics bekunden, indem es dessen Kanal abonniert oder einen Kanal zu einem neuen Topic bewirbt. Über diese Kanäle können die Programme dann durch den Austausch von Messages kommunizieren.\n",
    "\n",
    "[topic](https://docs.luxai.com/img/ros_pub_sub.png)\n",
    "\n",
    "Um einander zu verstehen, müssen Menschen in einem gemeinsamen Chatroom die gleiche Sprache sprechen. Das ist bei ROS-Programmen sehr ähnlich. QTrobot wirbt zum Beispiel für ein Topic namens `/qt_robot/speech/say`, das Messages vom Typ `std_msgs/String` verwendet. Dies ist ein sehr verbreiteter und standardmäßiger Nachrichtentyp in ROS, der eine einfache String (Text)-Nachricht darstellt. Messages können auch einen komplexeren Typ haben, der aus verschiedenen einfacheren Nachrichten besteht. Zum Beispiel verwendet das Topic `/qt_nuitrack_app/faces` eine benutzerdefinierte Message vom Typ `qt_nuitrack_app/FaceInfo`. Diese Message stellt eine Sammlung menschlicher Gesichtsmerkmale dar, wie z.B. Emotionen (z.B. glücklich, wütend, überrascht). Werfen Sie einen Blick auf die [Liste der verfügbaren Themen](https://docs.luxai.com/docs/api_ros#list-of-available-interfaces), die von QTrobot beworben werden.\n",
    "\n",
    "### Publishers und Subscribers\n",
    "Betrachten wir noch einmal unser Chatroom-Beispiel. Die Person, die eine Nachricht schreibt, ist der Publisher, und diejenigen, die die Nachricht lesen, sind die Subscribers. Ein oder mehrere Verleger können Nachrichten zum selben Thema senden (veröffentlichen). Ebenso können mehrere Abonnenten Nachrichten zu demselben Thema empfangen.\n",
    "\n",
    "### Service calls\n",
    "Das Publish-Subscribe-Modell, das wir erläutert haben, ist ein sehr flexibles Kommunikationsparadigma. Es handelt sich jedoch um eine einseitige Kommunikation: Einer spricht und die anderen hören zu. Es ist zwar möglich, eine Zwei-Wege-Kommunikation einzurichten, indem man jede Entität gleichzeitig zum Verleger und zum Abonnenten werden lässt, aber wie Sie sich vorstellen können, kann das chaotisch werden (vor allem, wenn alle gleichzeitig sprechen wollen) und es wird mühsam, sich miteinander zu synchronisieren. Wir brauchen so etwas wie ein Anfrage-Antwort-Modell: Man fordert etwas von einer Entität an und wartet, bis die andere antwortet. Betrachten wir das Szenario einer Pizzabestellung: Es gibt ein Restaurant, das einen Pizzalieferservice anbietet. Der Name dieses Restaurants ist Pizzeria. Wir rufen an und bestellen eine Pizza. Wenn das Restaurant nur eine Pizzasorte anbietet, brauchen wir keine weiteren Angaben zu machen, aber in den meisten Fällen müssen wir zumindest mitteilen, welche Pizzasorte wir wünschen. Vielleicht möchten wir unsere Bestellung sogar noch weiter anpassen, indem wir zwischen verschiedenen Belagoptionen (Parametern) wählen, die angeboten werden. Dann brauchen wir nur noch zu warten, bis das Restaurant uns unsere Pizza schickt.\n",
    "\n",
    "ROS-Dienste funktionieren auf ähnliche Weise. Ein Softwareprogramm stellt eine bestimmte Art von Dienst zusammen mit den erforderlichen Parametern bereit und bewirbt sie. Andere Programme können diesen Dienst aufrufen und die Antwort erhalten. QTrobot bietet zum Beispiel einen Dienst namens `/qt_robot/speech/config` an, um die Robotersprache zu konfigurieren. Der Typ dieses Dienstes ist `qt_robot_interface/speech_config` und hat einige Parameter wie `language` und `speed`. Andere Programme können diesen Dienst aufrufen, um die Sprache und die Sprechgeschwindigkeit des Roboters während der Laufzeit zu ändern.\n",
    "\n",
    "### QTrobot ROS Topics und Services\n",
    "\n",
    "Um die Liste aller Topics oder Services zu erhalten, können Sie einen der folgenden Befehle ausführen:\n",
    "\n",
    "Topics:\n",
    "```bash\n",
    "rostopic list\n",
    "```"
   ]
  },
  {
   "cell_type": "code",
   "execution_count": 24,
   "metadata": {
    "ExecuteTime": {
     "end_time": "2023-05-02T14:51:30.904555300Z",
     "start_time": "2023-05-02T14:51:30.851478300Z"
    },
    "collapsed": false
   },
   "outputs": [
    {
     "name": "stdout",
     "output_type": "stream",
     "text": [
      "/camera/color/image_raw\n",
      "/client_count\n",
      "/connected_clients\n",
      "/qt_nuitrack_app/faces\n",
      "/qt_nuitrack_app/gestures\n",
      "/qt_nuitrack_app/hands\n",
      "/qt_nuitrack_app/skeletons\n",
      "/qt_respeaker_app/channel0\n",
      "/qt_respeaker_app/channel1\n",
      "/qt_respeaker_app/channel2\n",
      "/qt_respeaker_app/channel3\n",
      "/qt_respeaker_app/channel4\n",
      "/qt_respeaker_app/channel5\n",
      "/qt_respeaker_app/is_speaking\n",
      "/qt_respeaker_app/sound_direction\n",
      "/qt_robot/audio/play\n",
      "/qt_robot/behavior/talkAudio\n",
      "/qt_robot/behavior/talkText\n",
      "/qt_robot/emotion/show\n",
      "/qt_robot/gesture/play\n",
      "/qt_robot/head_position/command\n",
      "/qt_robot/joints/state\n",
      "/qt_robot/left_arm_position/command\n",
      "/qt_robot/motors/states\n",
      "/qt_robot/right_arm_position/command\n",
      "/qt_robot/speech/say\n",
      "/rosout\n",
      "/rosout_agg\n"
     ]
    }
   ],
   "source": [
    "!rostopic list"
   ]
  },
  {
   "cell_type": "markdown",
   "metadata": {
    "collapsed": false
   },
   "source": [
    "Services:\n",
    "```bash\n",
    "rosservice list\n",
    "```"
   ]
  },
  {
   "cell_type": "code",
   "execution_count": 25,
   "metadata": {
    "ExecuteTime": {
     "end_time": "2023-05-02T14:51:33.683788600Z",
     "start_time": "2023-05-02T14:51:33.646754300Z"
    },
    "collapsed": false
   },
   "outputs": [
    {
     "name": "stdout",
     "output_type": "stream",
     "text": [
      "/authenticate\n",
      "/controller/get_loggers\n",
      "/controller/set_logger_level\n",
      "/controller_manager/list_controller_types\n",
      "/controller_manager/list_controllers\n",
      "/controller_manager/load_controller\n",
      "/controller_manager/reload_controller_libraries\n",
      "/controller_manager/switch_controller\n",
      "/controller_manager/unload_controller\n",
      "/qt_motor/get_loggers\n",
      "/qt_motor/set_logger_level\n",
      "/qt_nuitrack_app/get_loggers\n",
      "/qt_nuitrack_app/set_logger_level\n",
      "/qt_nuitrack_app/suspend\n",
      "/qt_respeaker_app/tuning/get\n",
      "/qt_respeaker_app/tuning/set\n",
      "/qt_respeaker_app_node_py_QTRD000339_605_1322347445/get_loggers\n",
      "/qt_respeaker_app_node_py_QTRD000339_605_1322347445/set_logger_level\n",
      "/qt_robot/audio/play\n",
      "/qt_robot/audio/stop\n",
      "/qt_robot/behavior/talkAudio\n",
      "/qt_robot/behavior/talkText\n",
      "/qt_robot/emotion/show\n",
      "/qt_robot/emotion/stop\n",
      "/qt_robot/gesture/list\n",
      "/qt_robot/gesture/play\n",
      "/qt_robot/gesture/record\n",
      "/qt_robot/gesture/save\n",
      "/qt_robot/gesture/stop\n",
      "/qt_robot/motors/home\n",
      "/qt_robot/motors/setControlMode\n",
      "/qt_robot/motors/setVelocity\n",
      "/qt_robot/setting/downloadBase64\n",
      "/qt_robot/setting/info\n",
      "/qt_robot/setting/setVolume\n",
      "/qt_robot/setting/uploadBase64\n",
      "/qt_robot/speech/config\n",
      "/qt_robot/speech/recognize\n",
      "/qt_robot/speech/say\n",
      "/qt_robot/speech/stop\n",
      "/qt_robot_interface/get_loggers\n",
      "/qt_robot_interface/set_logger_level\n",
      "/qt_setting_interface/get_loggers\n",
      "/qt_setting_interface/set_logger_level\n",
      "/qt_vosk_app/get_loggers\n",
      "/qt_vosk_app/set_logger_level\n",
      "/qtrobot/setting/wifi_connect\n",
      "/qtrobot/setting/wifi_disconnect\n",
      "/qtrobot/setting/wifi_list\n",
      "/qtrobot/setting/wifi_status\n",
      "/rosapi/action_servers\n",
      "/rosapi/delete_param\n",
      "/rosapi/get_loggers\n",
      "/rosapi/get_param\n",
      "/rosapi/get_param_names\n",
      "/rosapi/get_time\n",
      "/rosapi/has_param\n",
      "/rosapi/message_details\n",
      "/rosapi/node_details\n",
      "/rosapi/nodes\n",
      "/rosapi/publishers\n",
      "/rosapi/search_param\n",
      "/rosapi/service_host\n",
      "/rosapi/service_node\n",
      "/rosapi/service_providers\n",
      "/rosapi/service_request_details\n",
      "/rosapi/service_response_details\n",
      "/rosapi/service_type\n",
      "/rosapi/services\n",
      "/rosapi/services_for_type\n",
      "/rosapi/set_logger_level\n",
      "/rosapi/set_param\n",
      "/rosapi/subscribers\n",
      "/rosapi/topic_type\n",
      "/rosapi/topics\n",
      "/rosapi/topics_and_raw_types\n",
      "/rosapi/topics_for_type\n",
      "/rosauth/get_loggers\n",
      "/rosauth/set_logger_level\n",
      "/rosbridge_websocket/get_loggers\n",
      "/rosbridge_websocket/set_logger_level\n",
      "/rosout/get_loggers\n",
      "/rosout/set_logger_level\n"
     ]
    }
   ],
   "source": [
    "!rosservice list"
   ]
  },
  {
   "attachments": {},
   "cell_type": "markdown",
   "metadata": {
    "collapsed": false
   },
   "source": [
    "### QTrobot speech interface\n",
    "Beginnen wir mit der QTrobot Sprach-Schnittstelle. Wenn Sie `rostopic list` aufrufen, werden Sie sehen, dass eines der Topics `/qt_robot/speech/say` ist. Wenn wir in diesem Topic veröffentlichen, wird QTrobot die Textnachricht, die wir geschrieben haben, sagen.\n",
    "\n",
    "Publisher:\n",
    "```bash\n",
    "rostopic pub /qt_robot/speech/say std_msgs/String \"data: 'Hallo, ich bin QT'\"\n",
    "```"
   ]
  },
  {
   "cell_type": "code",
   "execution_count": 26,
   "metadata": {
    "ExecuteTime": {
     "end_time": "2023-05-02T14:51:35.806812600Z",
     "start_time": "2023-05-02T14:51:35.753225400Z"
    },
    "collapsed": false
   },
   "outputs": [
    {
     "name": "stdout",
     "output_type": "stream",
     "text": [
      "publishing and latching message. Press ctrl-C to terminate\n",
      "^C\n"
     ]
    }
   ],
   "source": [
    "!rostopic pub /qt_robot/speech/say std_msgs/String \"data: 'Hallo, ich bin QT'\""
   ]
  },
  {
   "cell_type": "markdown",
   "metadata": {
    "collapsed": false
   },
   "source": [
    "Service call:\n",
    "```bash\n",
    "rosservice call /qt_robot/speech/say \"message: 'Hallo, ich bin QT'\"\n",
    "```"
   ]
  },
  {
   "cell_type": "code",
   "execution_count": 27,
   "metadata": {
    "ExecuteTime": {
     "end_time": "2023-05-02T14:51:37.098743800Z",
     "start_time": "2023-05-02T14:51:37.060191100Z"
    },
    "collapsed": false
   },
   "outputs": [
    {
     "name": "stdout",
     "output_type": "stream",
     "text": [
      "status: True\n"
     ]
    }
   ],
   "source": [
    "!rosservice call /qt_robot/speech/say \"message: 'Hallo, ich bin QT'\""
   ]
  },
  {
   "attachments": {},
   "cell_type": "markdown",
   "metadata": {
    "collapsed": false
   },
   "source": [
    "### QTrobot talk text interface\n",
    "Die Schnittstelle `/qt_robot/behavior/talkText` ist der Schnittstelle `/qt_robot/speech/say` ähnlich, mit dem einzigen Unterschied, dass die talkText-Schnittstelle QTrobot auffordert, seine Lippen zu bewegen, während er die Textnachrichten liest. Um es auszuprobieren, fügen Sie einfach die folgenden Zeilen zu unserem Code hinzu und sehen Sie sich das Gesicht des QTrobot an:\n",
    "\n",
    "Publisher:\n",
    "```bash\n",
    "rostopic pub /qt_robot/behavior/talkText std_msgs/String \"data: 'Hallo, ich bin QT'\"\n",
    "```"
   ]
  },
  {
   "cell_type": "code",
   "execution_count": 28,
   "metadata": {
    "ExecuteTime": {
     "end_time": "2023-05-02T14:51:38.381363100Z",
     "start_time": "2023-05-02T14:51:38.329459200Z"
    },
    "collapsed": false
   },
   "outputs": [
    {
     "name": "stdout",
     "output_type": "stream",
     "text": [
      "publishing and latching message. Press ctrl-C to terminate\n",
      "^C\n"
     ]
    }
   ],
   "source": [
    "!rostopic pub /qt_robot/behavior/talkText std_msgs/String \"data: 'Hallo, ich bin QT'\""
   ]
  },
  {
   "cell_type": "markdown",
   "metadata": {
    "collapsed": false
   },
   "source": [
    "Service call:\n",
    "```bash\n",
    "rosservice call /qt_robot/behavior/talkText \"message: 'Hallo, ich bin QT'\"\n",
    "```"
   ]
  },
  {
   "cell_type": "code",
   "execution_count": 29,
   "metadata": {
    "ExecuteTime": {
     "end_time": "2023-05-02T14:51:39.447460800Z",
     "start_time": "2023-05-02T14:51:39.406467100Z"
    },
    "collapsed": false
   },
   "outputs": [
    {
     "name": "stdout",
     "output_type": "stream",
     "text": [
      "status: True\n"
     ]
    }
   ],
   "source": [
    "!rosservice call /qt_robot/behavior/talkText \"message: 'Hallo, ich bin QT'\""
   ]
  },
  {
   "attachments": {},
   "cell_type": "markdown",
   "metadata": {
    "collapsed": false
   },
   "source": [
    "### QTrobot emotion interface\n",
    "Zeigen wir nun eine Emotion auf dem QTrobot-Gesicht. QTrobot kommt mit vielen vordefinierten Emotionsanimationen. Sie können die vollständige Liste der verfügbaren Emotionen entweder mit der QTrobot Educator-App oder durch einen Blick in den Ordner `~/robot/data/emotions` in QTRP finden.\n",
    "\n",
    "Publisher:\n",
    "```bash\n",
    "rostopic pub /qt_robot/emotion/show std_msgs/String \"data: 'QT/happy'\"\n",
    "```"
   ]
  },
  {
   "cell_type": "code",
   "execution_count": 30,
   "metadata": {
    "ExecuteTime": {
     "end_time": "2023-05-02T14:51:40.486666500Z",
     "start_time": "2023-05-02T14:51:40.445651800Z"
    },
    "collapsed": false
   },
   "outputs": [
    {
     "name": "stdout",
     "output_type": "stream",
     "text": [
      "publishing and latching message. Press ctrl-C to terminate\n",
      "^C\n"
     ]
    }
   ],
   "source": [
    "!rostopic pub /qt_robot/emotion/show std_msgs/String \"data: 'QT/happy'\""
   ]
  },
  {
   "cell_type": "markdown",
   "metadata": {
    "collapsed": false
   },
   "source": [
    "Service call:\n",
    "```bash\n",
    "rosservice call /qt_robot/emotion/show \"name: 'QT/happy'\"\n",
    "```"
   ]
  },
  {
   "cell_type": "code",
   "execution_count": 31,
   "metadata": {
    "ExecuteTime": {
     "end_time": "2023-05-02T14:51:41.481709600Z",
     "start_time": "2023-05-02T14:51:41.429707700Z"
    },
    "collapsed": false
   },
   "outputs": [
    {
     "name": "stdout",
     "output_type": "stream",
     "text": [
      "status: True\n"
     ]
    }
   ],
   "source": [
    "!rosservice call /qt_robot/emotion/show \"name: 'QT/happy'\""
   ]
  },
  {
   "attachments": {},
   "cell_type": "markdown",
   "metadata": {
    "collapsed": false
   },
   "source": [
    "### QTrobot gesture interface\n",
    "Lassen Sie uns nun eine Geste mit QTrobot spielen. QTrobot kommt mit vielen vordefinierten Gesten. Sie können die vollständige Liste der verfügbaren Gesten entweder mit der QTrobot Educator-App oder durch einen Blick in den Ordner `~/robot/data/gestures` in QTRP finden.\n",
    "\n",
    "Publisher:\n",
    "```bash\n",
    "rostopic pub /qt_robot/gesture/play std_msgs/String \"data: 'QT/happy'\"\n",
    "```"
   ]
  },
  {
   "cell_type": "code",
   "execution_count": 32,
   "metadata": {
    "ExecuteTime": {
     "end_time": "2023-05-02T14:51:42.518903200Z",
     "start_time": "2023-05-02T14:51:42.472387500Z"
    },
    "collapsed": false
   },
   "outputs": [
    {
     "name": "stdout",
     "output_type": "stream",
     "text": [
      "publishing and latching message. Press ctrl-C to terminate\n",
      "^C\n"
     ]
    }
   ],
   "source": [
    "!rostopic pub /qt_robot/gesture/play std_msgs/String \"data: 'QT/happy'\""
   ]
  },
  {
   "cell_type": "markdown",
   "metadata": {
    "collapsed": false
   },
   "source": [
    "Service call:\n",
    "```bash\n",
    "rosservice call /qt_robot/gesture/play \"name: 'QT/happy' speed: 0.0\"\n",
    "```"
   ]
  },
  {
   "cell_type": "code",
   "execution_count": 33,
   "metadata": {
    "ExecuteTime": {
     "end_time": "2023-05-02T14:51:43.518401300Z",
     "start_time": "2023-05-02T14:51:43.465866100Z"
    },
    "collapsed": false
   },
   "outputs": [
    {
     "name": "stdout",
     "output_type": "stream",
     "text": [
      "status: True\n"
     ]
    }
   ],
   "source": [
    "!rosservice call /qt_robot/gesture/play \"name: 'QT/happy'\""
   ]
  },
  {
   "attachments": {},
   "cell_type": "markdown",
   "metadata": {
    "collapsed": false
   },
   "source": [
    "### QTrobot audio interface\n",
    "Spielen wir nun eine Audiodatei auf QTrobot ab. QTrobot kommt mit einigen Audiobeispielen. Sie können die vollständige Liste der verfügbaren Audiodateien entweder mit der QTrobot Educator App oder durch einen Blick in den Ordner `~/robot/data/audios` in QTRP finden. QTrobot kann sowohl Audio-Wave- als auch mp3-Dateien abspielen.\n",
    "\n",
    "Publisher:\n",
    "```bash\n",
    "rostopic pub /qt_robot/audio/play std_msgs/String \"data: 'QT/Komiku_Glouglou'\"\n",
    "```"
   ]
  },
  {
   "cell_type": "code",
   "execution_count": 34,
   "metadata": {
    "ExecuteTime": {
     "end_time": "2023-05-02T14:51:44.499747300Z",
     "start_time": "2023-05-02T14:51:44.447668300Z"
    },
    "collapsed": false
   },
   "outputs": [
    {
     "name": "stdout",
     "output_type": "stream",
     "text": [
      "publishing and latching message. Press ctrl-C to terminate\n",
      "^C\n"
     ]
    }
   ],
   "source": [
    "!rostopic pub /qt_robot/audio/play std_msgs/String \"data: 'QT/Komiku_Glouglou'\""
   ]
  },
  {
   "cell_type": "markdown",
   "metadata": {
    "collapsed": false
   },
   "source": [
    "Service call:\n",
    "```bash\n",
    "rosservice call /qt_robot/audio/play \"filename: 'QT/Komiku_Glouglou' filepath: ''\"\n",
    "```"
   ]
  },
  {
   "cell_type": "code",
   "execution_count": 36,
   "metadata": {
    "ExecuteTime": {
     "end_time": "2023-05-02T14:51:45.477600500Z",
     "start_time": "2023-05-02T14:51:45.431831600Z"
    },
    "collapsed": false
   },
   "outputs": [
    {
     "name": "stdout",
     "output_type": "stream",
     "text": [
      "status: True\n"
     ]
    }
   ],
   "source": [
    "!rosservice call /qt_robot/audio/play \"filename: 'QT/Komiku_Glouglou'\""
   ]
  },
  {
   "cell_type": "markdown",
   "metadata": {
    "collapsed": false
   },
   "source": [
    "# Weiterführende und ergänzende Literatur\n",
    "\n",
    "Nächstes Notebook: Keines -> Siehe [Beispiel-Programme](https://github.com/luxai-qtrobot/tutorials/tree/master/examples) und [Demos](https://github.com/luxai-qtrobot/tutorials/tree/master/demos) von LuxAI\n",
    "\n",
    "Resource von luxai: [Introduction to ROS](https://docs.luxai.com/docs/tutorials/intro_ros)"
   ]
  }
 ],
 "metadata": {
  "kernelspec": {
   "display_name": "Python 3",
   "language": "python",
   "name": "python3"
  },
  "language_info": {
   "codemirror_mode": {
    "name": "ipython",
    "version": 3
   },
   "file_extension": ".py",
   "mimetype": "text/x-python",
   "name": "python",
   "nbconvert_exporter": "python",
   "pygments_lexer": "ipython3",
   "version": "3.8.10"
  }
 },
 "nbformat": 4,
 "nbformat_minor": 0
}
