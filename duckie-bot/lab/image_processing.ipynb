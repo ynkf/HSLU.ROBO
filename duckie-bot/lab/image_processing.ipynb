{
 "cells": [
  {
   "cell_type": "markdown",
   "metadata": {},
   "source": [
    "# Basic Image Processing\n",
    "\n",
    "This Jupyter Notebook can be used to do test some basic image processing like cropping an image, changing the colorspace and slecting certain color ranges.\n",
    "\n",
    "First, you need the opencv library, numpy and matplotlib to plot the images."
   ]
  },
  {
   "cell_type": "code",
   "execution_count": null,
   "metadata": {},
   "outputs": [],
   "source": [
    "%pip install opencv-python matplotlib numpy"
   ]
  },
  {
   "cell_type": "markdown",
   "metadata": {},
   "source": [
    "Import the libraries and read the image file. Note, that OpenCV uses the BGR (blue-green-red) colorspace. Plt instead uses the RGB colorspace. For that reason, we need to convert it back to show the image in this notebook."
   ]
  },
  {
   "cell_type": "code",
   "execution_count": null,
   "metadata": {},
   "outputs": [],
   "source": [
    "import cv2\n",
    "import numpy as np\n",
    "from matplotlib import pyplot as plt\n",
    "\n",
    "image = cv2.imread('img/duckie.png', cv2.IMREAD_COLOR)\n",
    "plt.imshow(cv2.cvtColor(image, cv2.COLOR_BGR2RGB))"
   ]
  },
  {
   "cell_type": "markdown",
   "metadata": {},
   "source": [
    "The `image` is a numpy array. Each pixel has three values for the blue (B), green (G) and red (R) channel with values between 0-255."
   ]
  },
  {
   "cell_type": "code",
   "execution_count": null,
   "metadata": {},
   "outputs": [],
   "source": [
    "print(\"type of image: \" + str(type(image)))\n",
    "print(\"shape of image: \" + str(image.shape))"
   ]
  },
  {
   "cell_type": "markdown",
   "metadata": {},
   "source": [
    "To get the intensity of the blue channel of the pixel at location x = 50, y = 400:"
   ]
  },
  {
   "cell_type": "code",
   "execution_count": null,
   "metadata": {},
   "outputs": [],
   "source": [
    "print(\"blue channel value of pixel at x=50, y=400 is \" + str(image[400][50][0]))"
   ]
  },
  {
   "cell_type": "markdown",
   "metadata": {},
   "source": [
    "To filter a certain color range, it is more practical to use the HSV color space instead of the BGR or RGB space. Have a look at the Wikipedia article [HSV-Farbraum]([https://de.wikipedia.org/wiki/HSV-Farbraum) .\n",
    "\n",
    "We convert the image, chose a certain range of values and create a mask. Modify the values for the range to select the color of choice.\n",
    "\n",
    "\n",
    "The mask that is created is either 0 for pixel that are outside the range, or 255 for pixels that are within the range."
   ]
  },
  {
   "cell_type": "code",
   "execution_count": null,
   "metadata": {},
   "outputs": [],
   "source": [
    "image_hsv = cv2.cvtColor(image, cv2.COLOR_BGR2HSV)\n",
    "\n",
    "yellow_lower_hsv = np.array([0, 0, 0])\n",
    "yellow_upper_hsv = np.array([255, 255, 255])\n",
    "mask = cv2.inRange(image_hsv, yellow_lower_hsv, yellow_upper_hsv)\n",
    "\n",
    "# show the part of the image that is within the color range\n",
    "masked = cv2.bitwise_and(image, image, mask=mask)\n",
    "plt.imshow(cv2.cvtColor(masked, cv2.COLOR_BGR2RGB))\n"
   ]
  },
  {
   "cell_type": "markdown",
   "metadata": {},
   "source": [
    "For the Breitenberg vehicle, define which regions of the image correspond to the left and right sensory input. How can you translate the information of that regions into a value that can be used to send motor commands to the wheels?"
   ]
  },
  {
   "cell_type": "code",
   "execution_count": null,
   "metadata": {},
   "outputs": [],
   "source": [
    "# devide the image into a left and a right half\n",
    "right = None\n",
    " \n",
    "# calculate a value for the left and the right sensory input"
   ]
  }
 ],
 "metadata": {
  "kernelspec": {
   "display_name": "Python 3",
   "language": "python",
   "name": "python3"
  },
  "language_info": {
   "codemirror_mode": {
    "name": "ipython",
    "version": 3
   },
   "file_extension": ".py",
   "mimetype": "text/x-python",
   "name": "python",
   "nbconvert_exporter": "python",
   "pygments_lexer": "ipython3",
   "version": "3.10.4"
  },
  "orig_nbformat": 4
 },
 "nbformat": 4,
 "nbformat_minor": 2
}
